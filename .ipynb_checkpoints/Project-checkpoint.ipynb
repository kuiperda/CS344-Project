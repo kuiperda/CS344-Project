{
 "cells": [
  {
   "cell_type": "code",
   "execution_count": 4,
   "metadata": {},
   "outputs": [],
   "source": [
    "class WitnessGrid:\n",
    "    def __init__(self):\n",
    "        self.grid = []\n",
    "        self.head = []\n",
    "\n",
    "        #we can decide which one we'd like to keep\n",
    "        self.moves = [] # e.g. up, left, etc.\n",
    "        self.trail = [] # e.g. [4,0] for the vertex 'b'\n",
    "    \n",
    "    def makeBasic2x2(self):\n",
    "        self.grid = [['v', 'e', 'v', 'e', 'f'], \n",
    "                     ['e', 's', 'e', 's', 'e'],\n",
    "                     ['v', 'e', 'v', 'e', 'v'],\n",
    "                     ['e', 's', 'e', 's', 'e'],\n",
    "                     ['b', 'e', 'v', 'e', 'v']]\n",
    "        \n",
    "    def begin(self):\n",
    "        for row in self.grid:\n",
    "            for item in row:\n",
    "                if item == 'b':\n",
    "                    self.head = [self.grid.index(row), row.index(item)]\n",
    "                    self.trail.append(self.head)\n",
    "        \n",
    "                    \n",
    "    def step(self):\n",
    "        choice = input(\"Type u,d,l,r for up/down/left/right: \")\n",
    "        if choice == 'u':\n",
    "            return self.moveup()\n",
    "        elif choice == 'd':\n",
    "            return self.movedown()\n",
    "        elif choice == 'l':\n",
    "            return self.moveleft()\n",
    "        elif choice == 'r':\n",
    "            return self.moveright()\n",
    "        else:\n",
    "            print(\"Choose u/d/l/r\")\n",
    "            return\n",
    "    \n",
    "    def evaluateState(self, move):\n",
    "        '''\n",
    "        This function returns 'Solved' if the current vertex is the final vertex\n",
    "        otherwise it returns the current trail\n",
    "        '''\n",
    "        self.moves.append(move)\n",
    "        curr_row, curr_col = self.trail[-1] #gets the last row inserted after moving\n",
    "        return 'Solved' if self.grid[curr_row][curr_col] == 'f' else self.trail\n",
    "\n",
    "    def getNumRows(self):\n",
    "        return len(self.grid) - 1\n",
    "    \n",
    "    def getNumCols(self):\n",
    "        return len(self.grid[0]) - 1\n",
    "    \n",
    "    def getMoves(self):\n",
    "        '''Returns the list of moves entered'''\n",
    "        return self.moves\n",
    "        \n",
    "    def moveup(self):\n",
    "        '''Gets the last position moved and checks if there is an edge\n",
    "            to the next vertex. If an edge exists, it moves up to the next\n",
    "            vertex, otherwise it returns and 'invalid' move.\n",
    "        '''\n",
    "        row, col = self.trail[-1]\n",
    "        if row >= 0 and self.grid[row - 1][col] == 'e':\n",
    "            self.trail.append([row -2, col])\n",
    "            return self.evaluateState('up')\n",
    "        return 'Invalid'\n",
    "\n",
    "    def movedown(self):\n",
    "        '''Gets the last position moved and checks if there is an edge\n",
    "            to the next vertex. If an edge exists, it moves down to the next\n",
    "            vertex, otherwise it returns and 'invalid' move.\n",
    "        '''\n",
    "        row, col = self.trail[-1]\n",
    "        if row < self.getNumRows() and self.grid[row + 1][col] == 'e':\n",
    "            self.trail.append([row + 2, col])\n",
    "            return self.evaluateState('down')\n",
    "        return 'Invalid'\n",
    "    \n",
    "    def moveleft(self):\n",
    "        row, col = self.trail[-1]\n",
    "        if col >= 0 and self.grid[row][col-1] == 'e':\n",
    "            self.trail.append([row, col-2])\n",
    "            return self.evaluateState('left')\n",
    "        return 'Invalid'\n",
    "    \n",
    "    def moveright(self):\n",
    "        row, col = self.trail[-1]\n",
    "        if col < self.getNumCols() and self.grid[row][col + 1] == 'e':\n",
    "            self.trail.append([row, col + 2])\n",
    "            return self.evaluateState('right')\n",
    "        return 'Invalid'"
   ]
  },
  {
   "cell_type": "code",
   "execution_count": 5,
   "metadata": {},
   "outputs": [],
   "source": [
    "# testing out the class manually\n",
    "test = WitnessGrid()\n",
    "test.makeBasic2x2()\n",
    "test.begin()"
   ]
  },
  {
   "cell_type": "code",
   "execution_count": 6,
   "metadata": {
    "scrolled": true
   },
   "outputs": [
    {
     "name": "stdout",
     "output_type": "stream",
     "text": [
      "Type u,d,l,r for up/down/left/right: u\n",
      "[[4, 0], [2, 0]]\n",
      "Type u,d,l,r for up/down/left/right: u\n",
      "[[4, 0], [2, 0], [0, 0]]\n",
      "Type u,d,l,r for up/down/left/right: r\n",
      "[[4, 0], [2, 0], [0, 0], [0, 2]]\n",
      "Type u,d,l,r for up/down/left/right: r\n",
      "Solved\n",
      "['up', 'up', 'right', 'right']\n"
     ]
    }
   ],
   "source": [
    "#Fail free to try other scenarios to see how the invalid part works.\n",
    "step = test.step()\n",
    "print(step)\n",
    "while step != 'Invalid':\n",
    "    step = test.step()\n",
    "    print(step)\n",
    "    if step == 'Solved':\n",
    "        break\n",
    "print(test.getMoves())"
   ]
  },
  {
   "cell_type": "code",
   "execution_count": null,
   "metadata": {},
   "outputs": [],
   "source": []
  }
 ],
 "metadata": {
  "kernelspec": {
   "display_name": "Python 3",
   "language": "python",
   "name": "python3"
  },
  "language_info": {
   "codemirror_mode": {
    "name": "ipython",
    "version": 3
   },
   "file_extension": ".py",
   "mimetype": "text/x-python",
   "name": "python",
   "nbconvert_exporter": "python",
   "pygments_lexer": "ipython3",
   "version": "3.8.5"
  }
 },
 "nbformat": 4,
 "nbformat_minor": 4
}
