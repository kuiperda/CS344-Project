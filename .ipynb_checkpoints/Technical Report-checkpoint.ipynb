{
 "cells": [
  {
   "cell_type": "markdown",
   "metadata": {},
   "source": [
    "# THE WITNESS - CS 344 Final Project"
   ]
  },
  {
   "cell_type": "markdown",
   "metadata": {},
   "source": [
    "### By Daniel Kuiper and Bernard Boadu"
   ]
  },
  {
   "cell_type": "markdown",
   "metadata": {},
   "source": [
    "## Our question"
   ]
  },
  {
   "cell_type": "markdown",
   "metadata": {},
   "source": [
    "How can we train a system to be more intuitive when making a decision? In other words, how can a system take what it has learned from a sample training data and adapt to a new environment? For example, could a chess AI system play 4-player chess well without training on that variation?"
   ]
  },
  {
   "cell_type": "markdown",
   "metadata": {},
   "source": [
    "## Dataset"
   ]
  },
  {
   "cell_type": "markdown",
   "metadata": {},
   "source": [
    "We generated our own dataset by having the program create puzzles and then solve them using a bruteforce approach. We converted the matrix into an image like the one we have below"
   ]
  },
  {
   "cell_type": "code",
   "execution_count": null,
   "metadata": {},
   "outputs": [],
   "source": [
    "[['v', 'e', 'v', 'e', 'v', 'e', 'f'],\n",
    " ['e', ' ', 'e', ' ', 'e', ' ', 'e'],\n",
    " ['v', 'e', 'v', 'e', 'v', 'e', 'v'],\n",
    " ['e', ' ', 'e', ' ', 'e', ' ', 'e'],\n",
    " ['X', 'e', 'v', 'e', 'X', 'e', 'X'],\n",
    " ['e', ' ', 'e', ' ', 'e', ' ', 'e'],\n",
    " ['b', 'e', 'v', 'e', 'v', 'e', 'v']]"
   ]
  },
  {
   "cell_type": "markdown",
   "metadata": {},
   "source": [
    "<img src=\"test_image_subsets/finished/grid1005.png\" width=\"200\" height=\"200\" >"
   ]
  },
  {
   "cell_type": "markdown",
   "metadata": {},
   "source": [
    "## Technical Goal"
   ]
  },
  {
   "cell_type": "markdown",
   "metadata": {},
   "source": [
    "### Initial Goal:"
   ]
  },
  {
   "cell_type": "markdown",
   "metadata": {},
   "source": [
    "Train a model to predict whether a subpath would most likely result in a solve state or not. Thereafter, this prediction would be used in a search tree to decide the next path to take."
   ]
  },
  {
   "cell_type": "markdown",
   "metadata": {},
   "source": [
    "### Final Goal:"
   ]
  },
  {
   "cell_type": "markdown",
   "metadata": {},
   "source": [
    "Due to inadequate amount of data, we pivoted to training a model that would determine if a grid of the game was either solved, finished or unfinished.\n",
    "\n",
    "* Solved = Puzzle made it to the end and followed all the rules (i.e., collected all the dots)\n",
    "* Finished = Puzzle made it to the end but failed to follow all the rules\n",
    "* Unfinished = Puzzle did not make it to the solved state"
   ]
  },
  {
   "cell_type": "markdown",
   "metadata": {},
   "source": [
    "## Exploring the Data"
   ]
  },
  {
   "cell_type": "markdown",
   "metadata": {},
   "source": [
    "We recognized that in generating our data, there was fewer data to represent a solved state. Also, we obtain more data representing a solved state when the percentage of dots was fewer."
   ]
  },
  {
   "cell_type": "markdown",
   "metadata": {},
   "source": [
    "## Modeling Setup"
   ]
  },
  {
   "cell_type": "markdown",
   "metadata": {},
   "source": [
    "* Model: CNN with Resnet18\n",
    "* Targets: 'Solved', 'Finished' and 'Unfinished'\n",
    "* Metrics: Error rate"
   ]
  },
  {
   "cell_type": "markdown",
   "metadata": {},
   "source": [
    "## Validation Approach"
   ]
  },
  {
   "cell_type": "markdown",
   "metadata": {},
   "source": [
    "We split our data into a Train(80%) and Validation set(20%). Thereafter, we tested our model using an entirely new grid outside the original train-valid set."
   ]
  },
  {
   "cell_type": "markdown",
   "metadata": {},
   "source": [
    "## Baseline Results"
   ]
  },
  {
   "cell_type": "markdown",
   "metadata": {},
   "source": [
    "Our baseline result using a decision tree overfitted because we did include the grid puzzle in the data (i.e., only used subpaths generated). Also, we failed to split the initial dataset into a train-valid set"
   ]
  },
  {
   "cell_type": "markdown",
   "metadata": {},
   "source": [
    "## Attempts at improved results"
   ]
  },
  {
   "cell_type": "markdown",
   "metadata": {},
   "source": [
    "Included the grid puzzle in the training process and split the dataset into a train-valid set"
   ]
  },
  {
   "cell_type": "markdown",
   "metadata": {},
   "source": [
    "## Analysis of errors"
   ]
  },
  {
   "cell_type": "markdown",
   "metadata": {},
   "source": [
    "Looking at our confusion matrix, we noticed that 10 finished grid states were misclassified as solved. This might be due to the fewer solved grid states in the dataset compared to finished grid states.The alternative reason for this misclassification would be that both the solved and finished grid states look similar."
   ]
  },
  {
   "cell_type": "markdown",
   "metadata": {},
   "source": [
    "## Analysis of effects of alternative choices"
   ]
  },
  {
   "cell_type": "markdown",
   "metadata": {},
   "source": [
    "An alternative choice would have been to have used the entire unfinished grid states (rather than a subset). Our choice was tied to the fact that we believed the dataset would be imbalanced and would overfit on the unfinished grid states. Another approach would be to increase the number of solved grid states to see if the number of misclassification of solved and unfinished grid states would reduce."
   ]
  },
  {
   "cell_type": "markdown",
   "metadata": {},
   "source": [
    "## Summary of findings"
   ]
  },
  {
   "cell_type": "markdown",
   "metadata": {},
   "source": [
    "When we trained our model on a particular grid size (in this case a 3x3 matrix grid), its prediction was more accurate for similar grid sizes than other grid sizes (i.e.,using grids it had never seen before during training). "
   ]
  },
  {
   "cell_type": "markdown",
   "metadata": {},
   "source": [
    "We managed to achieve our final goal (i.e.learning the difference between different states) but were unable to achieve our initial goal due to limitations with data and time."
   ]
  },
  {
   "cell_type": "markdown",
   "metadata": {},
   "source": [
    "## Limitations and future directions"
   ]
  },
  {
   "cell_type": "markdown",
   "metadata": {},
   "source": [
    "* Limitations: insufficient data, time\n",
    "* Future directions: a different type of dataset would be needed to train a decision-based model."
   ]
  },
  {
   "cell_type": "code",
   "execution_count": null,
   "metadata": {},
   "outputs": [],
   "source": []
  }
 ],
 "metadata": {
  "kernelspec": {
   "display_name": "Python 3",
   "language": "python",
   "name": "python3"
  },
  "language_info": {
   "codemirror_mode": {
    "name": "ipython",
    "version": 3
   },
   "file_extension": ".py",
   "mimetype": "text/x-python",
   "name": "python",
   "nbconvert_exporter": "python",
   "pygments_lexer": "ipython3",
   "version": "3.8.5"
  }
 },
 "nbformat": 4,
 "nbformat_minor": 4
}
