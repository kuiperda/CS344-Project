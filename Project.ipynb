{
 "cells": [
  {
   "cell_type": "code",
   "execution_count": 52,
   "metadata": {},
   "outputs": [],
   "source": [
    "#basic implementation for the matrix representation of the puzzle\n",
    "#feel free to mess around and change things, this is just a first pass on the idea\n",
    "\n",
    "class WitnessGrid:\n",
    "    def __init__(self):\n",
    "        self.grid = []\n",
    "        self.head = []\n",
    "        self.trail = []\n",
    "    \n",
    "    def makeBasic2x2(self):\n",
    "        self.grid = [['v', 'e', 'v', 'e', 'f'], \n",
    "                     ['e', 's', 'e', 's', 'e'],\n",
    "                     ['v', 'e', 'v', 'e', 'v'],\n",
    "                     ['e', 's', 'e', 's', 'e'],\n",
    "                     ['b', 'e', 'v', 'e', 'v']]\n",
    "        \n",
    "    def begin(self):\n",
    "        for row in self.grid:\n",
    "            for item in row:\n",
    "                if item == 'b':\n",
    "                    self.head = [self.grid.index(row), row.index(item)]\n",
    "                    self.trail.append(self.head)\n",
    "                    \n",
    "    def step(self):\n",
    "        choice = input(\"Type u,d,l,r for up/down/left/right: \")\n",
    "        if choice == 'u':\n",
    "            self.moveup()\n",
    "        elif choice == 'd':\n",
    "            self.movedown()\n",
    "        elif choice == 'l':\n",
    "            self.moveleft()\n",
    "        elif choice == 'r':\n",
    "            self.moveright()\n",
    "        else:\n",
    "            print(\"Choose u/d/l/r\")\n",
    "            return\n",
    "        \n",
    "    def moveup(self):\n",
    "        print(\"up\")\n",
    "    \n",
    "    def movedown(self):\n",
    "        print(\"down\")\n",
    "    \n",
    "    def moveleft(self):\n",
    "        print(\"left\")\n",
    "    \n",
    "    def moveright(self):\n",
    "        print(\"right\")"
   ]
  },
  {
   "cell_type": "code",
   "execution_count": 53,
   "metadata": {},
   "outputs": [],
   "source": [
    "# testing out the class manually\n",
    "test = WitnessGrid()\n",
    "test.makeBasic2x2()\n",
    "test.begin()"
   ]
  },
  {
   "cell_type": "code",
   "execution_count": 54,
   "metadata": {},
   "outputs": [
    {
     "name": "stdout",
     "output_type": "stream",
     "text": [
      "Type u,d,l,r for up/down/left/right: u\n",
      "up\n"
     ]
    }
   ],
   "source": [
    "test.step()"
   ]
  },
  {
   "cell_type": "code",
   "execution_count": null,
   "metadata": {},
   "outputs": [],
   "source": []
  }
 ],
 "metadata": {
  "kernelspec": {
   "display_name": "Python 3",
   "language": "python",
   "name": "python3"
  },
  "language_info": {
   "codemirror_mode": {
    "name": "ipython",
    "version": 3
   },
   "file_extension": ".py",
   "mimetype": "text/x-python",
   "name": "python",
   "nbconvert_exporter": "python",
   "pygments_lexer": "ipython3",
   "version": "3.8.5"
  }
 },
 "nbformat": 4,
 "nbformat_minor": 4
}
