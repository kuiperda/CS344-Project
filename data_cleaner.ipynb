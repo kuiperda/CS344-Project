{
 "cells": [
  {
   "cell_type": "code",
   "execution_count": 11,
   "metadata": {},
   "outputs": [],
   "source": [
    "length_of_longest_path = 0\n",
    "all_lines = []\n",
    "with open(\"2x2AllPaths.csv\") as file:\n",
    "    all_lines = [line.strip() for line in file.readlines()] # removing new line characters\n",
    "    longest_path = max(all_lines, key = len)# e.g. up, down, up, up, left, ...\n",
    "    length_of_longest_path = len(longest_path.split(',')) + 1"
   ]
  },
  {
   "cell_type": "code",
   "execution_count": 12,
   "metadata": {},
   "outputs": [
    {
     "data": {
      "text/plain": [
       "10"
      ]
     },
     "execution_count": 12,
     "metadata": {},
     "output_type": "execute_result"
    }
   ],
   "source": [
    "length_of_longest_path"
   ]
  },
  {
   "cell_type": "code",
   "execution_count": 4,
   "metadata": {},
   "outputs": [],
   "source": [
    "# all_lines"
   ]
  },
  {
   "cell_type": "code",
   "execution_count": 13,
   "metadata": {},
   "outputs": [],
   "source": [
    "clean_data = []\n",
    "for line in all_lines:\n",
    "    line_as_list = line.split(\",\")\n",
    "    line_length = len(line_as_list)\n",
    "    length_difference = length_of_longest_path - line_length\n",
    "\n",
    "    if length_difference > 0 :\n",
    "        path_validity = line_as_list.pop() # e.g. invalid or solve\n",
    "        line_rewritten = ','.join(line_as_list) + ',' * length_difference + path_validity\n",
    "        clean_data.append(line_rewritten)\n",
    "    else:\n",
    "        clean_data.append(line)"
   ]
  },
  {
   "cell_type": "code",
   "execution_count": 25,
   "metadata": {},
   "outputs": [
    {
     "data": {
      "text/plain": [
       "['1', '2', '3', '4', '5', '6', '7', '8', '9']"
      ]
     },
     "execution_count": 25,
     "metadata": {},
     "output_type": "execute_result"
    }
   ],
   "source": [
    "# clean_data\n",
    "col_headings = list(range(1,length_of_longest_path))\n",
    "# col_headings = [str(num) for num in col_headings];col_headings"
   ]
  },
  {
   "cell_type": "code",
   "execution_count": 28,
   "metadata": {},
   "outputs": [],
   "source": [
    "with open('2x2AllData_Clean.csv', 'w') as file:\n",
    "    file.write(','.join(col_headings) + '\\n')\n",
    "    for line in clean_data:\n",
    "        file.write(line + '\\n')"
   ]
  },
  {
   "cell_type": "code",
   "execution_count": 9,
   "metadata": {},
   "outputs": [],
   "source": [
    "#for renaming multiples files in a folder\n",
    "import os\n",
    "index = 10\n",
    "file_path = '/home/bkb5/Desktop/cs344/CS344-Project/trainingImages/test/'\n",
    "for file in os.listdir(file_path):\n",
    "    dst = 'grid' + str(index) + '.txt'\n",
    "    os.rename(file_path + file,file_path + dst)\n",
    "    index+=1"
   ]
  },
  {
   "cell_type": "code",
   "execution_count": null,
   "metadata": {},
   "outputs": [],
   "source": []
  }
 ],
 "metadata": {
  "kernelspec": {
   "display_name": "Python 3",
   "language": "python",
   "name": "python3"
  },
  "language_info": {
   "codemirror_mode": {
    "name": "ipython",
    "version": 3
   },
   "file_extension": ".py",
   "mimetype": "text/x-python",
   "name": "python",
   "nbconvert_exporter": "python",
   "pygments_lexer": "ipython3",
   "version": "3.8.5"
  }
 },
 "nbformat": 4,
 "nbformat_minor": 4
}
